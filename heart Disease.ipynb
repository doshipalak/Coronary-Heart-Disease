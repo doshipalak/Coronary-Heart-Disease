{
 "cells": [
  {
   "cell_type": "markdown",
   "id": "b420b410",
   "metadata": {},
   "source": [
    "# Coronary Heart Disease Prediction "
   ]
  },
  {
   "cell_type": "code",
   "execution_count": 1,
   "id": "986ce7d6",
   "metadata": {},
   "outputs": [],
   "source": [
    "import pandas as pd\n",
    "import numpy as np\n",
    "import matplotlib.pyplot as plt\n",
    "import seaborn as sns"
   ]
  },
  {
   "cell_type": "code",
   "execution_count": 2,
   "id": "11f4885c",
   "metadata": {},
   "outputs": [
    {
     "data": {
      "text/html": [
       "<div>\n",
       "<style scoped>\n",
       "    .dataframe tbody tr th:only-of-type {\n",
       "        vertical-align: middle;\n",
       "    }\n",
       "\n",
       "    .dataframe tbody tr th {\n",
       "        vertical-align: top;\n",
       "    }\n",
       "\n",
       "    .dataframe thead th {\n",
       "        text-align: right;\n",
       "    }\n",
       "</style>\n",
       "<table border=\"1\" class=\"dataframe\">\n",
       "  <thead>\n",
       "    <tr style=\"text-align: right;\">\n",
       "      <th></th>\n",
       "      <th>male</th>\n",
       "      <th>age</th>\n",
       "      <th>currentSmoker</th>\n",
       "      <th>cigsPerDay</th>\n",
       "      <th>BPMeds</th>\n",
       "      <th>prevalentStroke</th>\n",
       "      <th>prevalentHyp</th>\n",
       "      <th>diabetes</th>\n",
       "      <th>totChol</th>\n",
       "      <th>sysBP</th>\n",
       "      <th>diaBP</th>\n",
       "      <th>BMI</th>\n",
       "      <th>heartRate</th>\n",
       "      <th>glucose</th>\n",
       "      <th>TenYearCHD</th>\n",
       "    </tr>\n",
       "  </thead>\n",
       "  <tbody>\n",
       "    <tr>\n",
       "      <th>0</th>\n",
       "      <td>1</td>\n",
       "      <td>39</td>\n",
       "      <td>0</td>\n",
       "      <td>0.0</td>\n",
       "      <td>0.0</td>\n",
       "      <td>0</td>\n",
       "      <td>0</td>\n",
       "      <td>0</td>\n",
       "      <td>195.0</td>\n",
       "      <td>106.0</td>\n",
       "      <td>70.0</td>\n",
       "      <td>26.97</td>\n",
       "      <td>80.0</td>\n",
       "      <td>77.0</td>\n",
       "      <td>0</td>\n",
       "    </tr>\n",
       "    <tr>\n",
       "      <th>1</th>\n",
       "      <td>0</td>\n",
       "      <td>46</td>\n",
       "      <td>0</td>\n",
       "      <td>0.0</td>\n",
       "      <td>0.0</td>\n",
       "      <td>0</td>\n",
       "      <td>0</td>\n",
       "      <td>0</td>\n",
       "      <td>250.0</td>\n",
       "      <td>121.0</td>\n",
       "      <td>81.0</td>\n",
       "      <td>28.73</td>\n",
       "      <td>95.0</td>\n",
       "      <td>76.0</td>\n",
       "      <td>0</td>\n",
       "    </tr>\n",
       "  </tbody>\n",
       "</table>\n",
       "</div>"
      ],
      "text/plain": [
       "   male  age  currentSmoker  cigsPerDay  BPMeds  prevalentStroke  \\\n",
       "0     1   39              0         0.0     0.0                0   \n",
       "1     0   46              0         0.0     0.0                0   \n",
       "\n",
       "   prevalentHyp  diabetes  totChol  sysBP  diaBP    BMI  heartRate  glucose  \\\n",
       "0             0         0    195.0  106.0   70.0  26.97       80.0     77.0   \n",
       "1             0         0    250.0  121.0   81.0  28.73       95.0     76.0   \n",
       "\n",
       "   TenYearCHD  \n",
       "0           0  \n",
       "1           0  "
      ]
     },
     "execution_count": 2,
     "metadata": {},
     "output_type": "execute_result"
    }
   ],
   "source": [
    "dataset=pd.read_csv(r\"D:\\Data Science\\Raw datasets\\framingham.csv\")\n",
    "dataset.drop([\"education\"],axis=1,inplace=True)\n",
    "dataset.head(2)"
   ]
  },
  {
   "cell_type": "code",
   "execution_count": 3,
   "id": "971ef3ba",
   "metadata": {},
   "outputs": [
    {
     "data": {
      "text/plain": [
       "(4238, 15)"
      ]
     },
     "execution_count": 3,
     "metadata": {},
     "output_type": "execute_result"
    }
   ],
   "source": [
    "dataset.shape"
   ]
  },
  {
   "cell_type": "code",
   "execution_count": 4,
   "id": "9a18eb7a",
   "metadata": {},
   "outputs": [
    {
     "data": {
      "text/plain": [
       "0"
      ]
     },
     "execution_count": 4,
     "metadata": {},
     "output_type": "execute_result"
    }
   ],
   "source": [
    "dataset.duplicated().sum()"
   ]
  },
  {
   "cell_type": "code",
   "execution_count": 5,
   "id": "c68ddace",
   "metadata": {},
   "outputs": [
    {
     "name": "stdout",
     "output_type": "stream",
     "text": [
      "<class 'pandas.core.frame.DataFrame'>\n",
      "RangeIndex: 4238 entries, 0 to 4237\n",
      "Data columns (total 15 columns):\n",
      " #   Column           Non-Null Count  Dtype  \n",
      "---  ------           --------------  -----  \n",
      " 0   male             4238 non-null   int64  \n",
      " 1   age              4238 non-null   int64  \n",
      " 2   currentSmoker    4238 non-null   int64  \n",
      " 3   cigsPerDay       4209 non-null   float64\n",
      " 4   BPMeds           4185 non-null   float64\n",
      " 5   prevalentStroke  4238 non-null   int64  \n",
      " 6   prevalentHyp     4238 non-null   int64  \n",
      " 7   diabetes         4238 non-null   int64  \n",
      " 8   totChol          4188 non-null   float64\n",
      " 9   sysBP            4238 non-null   float64\n",
      " 10  diaBP            4238 non-null   float64\n",
      " 11  BMI              4219 non-null   float64\n",
      " 12  heartRate        4237 non-null   float64\n",
      " 13  glucose          3850 non-null   float64\n",
      " 14  TenYearCHD       4238 non-null   int64  \n",
      "dtypes: float64(8), int64(7)\n",
      "memory usage: 496.8 KB\n"
     ]
    }
   ],
   "source": [
    "dataset.info()"
   ]
  },
  {
   "cell_type": "code",
   "execution_count": 6,
   "id": "14bda529",
   "metadata": {},
   "outputs": [
    {
     "data": {
      "text/plain": [
       "male                 0\n",
       "age                  0\n",
       "currentSmoker        0\n",
       "cigsPerDay          29\n",
       "BPMeds              53\n",
       "prevalentStroke      0\n",
       "prevalentHyp         0\n",
       "diabetes             0\n",
       "totChol             50\n",
       "sysBP                0\n",
       "diaBP                0\n",
       "BMI                 19\n",
       "heartRate            1\n",
       "glucose            388\n",
       "TenYearCHD           0\n",
       "dtype: int64"
      ]
     },
     "execution_count": 6,
     "metadata": {},
     "output_type": "execute_result"
    }
   ],
   "source": [
    "dataset.isnull().sum()"
   ]
  },
  {
   "cell_type": "markdown",
   "id": "098161a2",
   "metadata": {},
   "source": [
    "# Filling null data"
   ]
  },
  {
   "cell_type": "code",
   "execution_count": 7,
   "id": "a31c4a70",
   "metadata": {},
   "outputs": [],
   "source": [
    "dataset[\"cigsPerDay\"]=dataset[\"cigsPerDay\"].fillna(dataset[\"cigsPerDay\"].mode()[0])\n",
    "dataset[\"BPMeds\"]=dataset[\"BPMeds\"].fillna(dataset['BPMeds'].median())\n",
    "dataset[\"totChol\"]=dataset[\"totChol\"].fillna(dataset[\"totChol\"].median())\n",
    "dataset[\"BMI\"]=dataset[\"BMI\"].fillna(dataset[\"BMI\"].median())\n",
    "dataset[\"glucose\"]=dataset[\"glucose\"].fillna(dataset[\"glucose\"].median())\n",
    "dataset[\"heartRate\"]=dataset[\"heartRate\"].fillna(dataset[\"heartRate\"].mode()[0])"
   ]
  },
  {
   "cell_type": "code",
   "execution_count": 8,
   "id": "969aa5f3",
   "metadata": {},
   "outputs": [
    {
     "name": "stdout",
     "output_type": "stream",
     "text": [
      "<class 'pandas.core.frame.DataFrame'>\n",
      "RangeIndex: 4238 entries, 0 to 4237\n",
      "Data columns (total 15 columns):\n",
      " #   Column           Non-Null Count  Dtype  \n",
      "---  ------           --------------  -----  \n",
      " 0   male             4238 non-null   int64  \n",
      " 1   age              4238 non-null   int64  \n",
      " 2   currentSmoker    4238 non-null   int64  \n",
      " 3   cigsPerDay       4238 non-null   float64\n",
      " 4   BPMeds           4238 non-null   float64\n",
      " 5   prevalentStroke  4238 non-null   int64  \n",
      " 6   prevalentHyp     4238 non-null   int64  \n",
      " 7   diabetes         4238 non-null   int64  \n",
      " 8   totChol          4238 non-null   float64\n",
      " 9   sysBP            4238 non-null   float64\n",
      " 10  diaBP            4238 non-null   float64\n",
      " 11  BMI              4238 non-null   float64\n",
      " 12  heartRate        4238 non-null   float64\n",
      " 13  glucose          4238 non-null   float64\n",
      " 14  TenYearCHD       4238 non-null   int64  \n",
      "dtypes: float64(8), int64(7)\n",
      "memory usage: 496.8 KB\n"
     ]
    }
   ],
   "source": [
    "dataset.info()"
   ]
  },
  {
   "cell_type": "code",
   "execution_count": 9,
   "id": "6817a544",
   "metadata": {},
   "outputs": [],
   "source": [
    "dataset[\"male\"]=dataset[\"male\"].astype(\"object\")"
   ]
  },
  {
   "cell_type": "code",
   "execution_count": 10,
   "id": "b30c2865",
   "metadata": {},
   "outputs": [
    {
     "data": {
      "text/plain": [
       "array([1, 0], dtype=object)"
      ]
     },
     "execution_count": 10,
     "metadata": {},
     "output_type": "execute_result"
    }
   ],
   "source": [
    "dataset[\"male\"].unique()"
   ]
  },
  {
   "cell_type": "code",
   "execution_count": 11,
   "id": "ed415bf6",
   "metadata": {},
   "outputs": [],
   "source": [
    "dataset[\"male\"].replace([1,0],[\"Male\",\"Female\"],inplace=True)"
   ]
  },
  {
   "cell_type": "code",
   "execution_count": 12,
   "id": "64b25bd1",
   "metadata": {},
   "outputs": [
    {
     "data": {
      "text/plain": [
       "array(['Male', 'Female'], dtype=object)"
      ]
     },
     "execution_count": 12,
     "metadata": {},
     "output_type": "execute_result"
    }
   ],
   "source": [
    "dataset[\"male\"].unique()"
   ]
  },
  {
   "cell_type": "code",
   "execution_count": 13,
   "id": "99f46ebd",
   "metadata": {},
   "outputs": [],
   "source": [
    "dataset[\"Gender\"]=dataset[\"male\"]\n",
    "dataset.drop([\"male\"],axis=1,inplace=True)"
   ]
  },
  {
   "cell_type": "markdown",
   "id": "3eea2629",
   "metadata": {},
   "source": [
    "# Removing outliers for normal dist plot\n"
   ]
  },
  {
   "cell_type": "code",
   "execution_count": 14,
   "id": "88253fd6",
   "metadata": {},
   "outputs": [],
   "source": [
    "# ft=FunctionTransformer(func=lambda x:(1/x**4))\n",
    "# dataset[\"age\"]=ft.fit_transform(dataset[[\"age\"]])"
   ]
  },
  {
   "cell_type": "code",
   "execution_count": 15,
   "id": "04f5a645",
   "metadata": {},
   "outputs": [],
   "source": [
    "q1,q3=dataset[\"glucose\"].quantile(0.25),dataset[\"glucose\"].quantile(0.75)\n",
    "q1,q3\n",
    "iqr=q3-q1\n",
    "iqr\n",
    "min_glu,max_glu=(q1-(1.5*iqr)),(q3+(1.5*iqr))\n",
    "min_glu,max_glu\n",
    "dataset=dataset[dataset[\"glucose\"]<max_glu]"
   ]
  },
  {
   "cell_type": "code",
   "execution_count": 16,
   "id": "a2556035",
   "metadata": {},
   "outputs": [],
   "source": [
    "q1,q3=dataset[\"sysBP\"].quantile(0.25),dataset[\"sysBP\"].quantile(0.75)\n",
    "iqr=q3-q1\n",
    "iqr\n",
    "min_sysbp,max_sysbp=(q1-(1.5*iqr)),(q3+(1.5*iqr))\n",
    "min_sysbp,max_sysbp\n",
    "dataset=dataset[dataset[\"sysBP\"]<max_sysbp]\n"
   ]
  },
  {
   "cell_type": "code",
   "execution_count": 17,
   "id": "c07e5423",
   "metadata": {},
   "outputs": [],
   "source": [
    "q1,q3=dataset[\"diaBP\"].quantile(0.25),dataset[\"diaBP\"].quantile(0.75)\n",
    "iqr=q3-q1\n",
    "iqr\n",
    "min_dibp,max_dibp=(q1-(1.5*iqr)),(q3+(1.5*iqr))\n",
    "min_dibp,max_dibp\n",
    "dataset=dataset[dataset[\"diaBP\"]<max_dibp]\n"
   ]
  },
  {
   "cell_type": "markdown",
   "id": "b30f2d7f",
   "metadata": {},
   "source": [
    "# Changing data types"
   ]
  },
  {
   "cell_type": "code",
   "execution_count": 18,
   "id": "3cd113d3",
   "metadata": {},
   "outputs": [],
   "source": [
    "dataset[\"cigsPerDay\"]=dataset[\"cigsPerDay\"].astype(\"int32\")\n",
    "dataset[\"BPMeds\"]=dataset[\"BPMeds\"].astype(\"int32\")\n",
    "dataset[\"totChol\"]=dataset[\"totChol\"].astype(\"int32\")\n",
    "dataset[\"heartRate\"]=dataset[\"heartRate\"].astype(\"int32\")\n",
    "dataset[\"glucose\"]=dataset[\"glucose\"].astype(\"int32\")"
   ]
  },
  {
   "cell_type": "code",
   "execution_count": 19,
   "id": "aff7ad4a",
   "metadata": {},
   "outputs": [
    {
     "data": {
      "text/html": [
       "<div>\n",
       "<style scoped>\n",
       "    .dataframe tbody tr th:only-of-type {\n",
       "        vertical-align: middle;\n",
       "    }\n",
       "\n",
       "    .dataframe tbody tr th {\n",
       "        vertical-align: top;\n",
       "    }\n",
       "\n",
       "    .dataframe thead th {\n",
       "        text-align: right;\n",
       "    }\n",
       "</style>\n",
       "<table border=\"1\" class=\"dataframe\">\n",
       "  <thead>\n",
       "    <tr style=\"text-align: right;\">\n",
       "      <th></th>\n",
       "      <th>age</th>\n",
       "      <th>currentSmoker</th>\n",
       "      <th>cigsPerDay</th>\n",
       "      <th>BPMeds</th>\n",
       "      <th>prevalentStroke</th>\n",
       "      <th>prevalentHyp</th>\n",
       "      <th>diabetes</th>\n",
       "      <th>totChol</th>\n",
       "      <th>sysBP</th>\n",
       "      <th>diaBP</th>\n",
       "      <th>BMI</th>\n",
       "      <th>heartRate</th>\n",
       "      <th>glucose</th>\n",
       "      <th>TenYearCHD</th>\n",
       "      <th>Gender</th>\n",
       "    </tr>\n",
       "  </thead>\n",
       "  <tbody>\n",
       "    <tr>\n",
       "      <th>0</th>\n",
       "      <td>39</td>\n",
       "      <td>0</td>\n",
       "      <td>0</td>\n",
       "      <td>0</td>\n",
       "      <td>0</td>\n",
       "      <td>0</td>\n",
       "      <td>0</td>\n",
       "      <td>195</td>\n",
       "      <td>106.0</td>\n",
       "      <td>70.0</td>\n",
       "      <td>26.97</td>\n",
       "      <td>80</td>\n",
       "      <td>77</td>\n",
       "      <td>0</td>\n",
       "      <td>Male</td>\n",
       "    </tr>\n",
       "    <tr>\n",
       "      <th>1</th>\n",
       "      <td>46</td>\n",
       "      <td>0</td>\n",
       "      <td>0</td>\n",
       "      <td>0</td>\n",
       "      <td>0</td>\n",
       "      <td>0</td>\n",
       "      <td>0</td>\n",
       "      <td>250</td>\n",
       "      <td>121.0</td>\n",
       "      <td>81.0</td>\n",
       "      <td>28.73</td>\n",
       "      <td>95</td>\n",
       "      <td>76</td>\n",
       "      <td>0</td>\n",
       "      <td>Female</td>\n",
       "    </tr>\n",
       "  </tbody>\n",
       "</table>\n",
       "</div>"
      ],
      "text/plain": [
       "   age  currentSmoker  cigsPerDay  BPMeds  prevalentStroke  prevalentHyp  \\\n",
       "0   39              0           0       0                0             0   \n",
       "1   46              0           0       0                0             0   \n",
       "\n",
       "   diabetes  totChol  sysBP  diaBP    BMI  heartRate  glucose  TenYearCHD  \\\n",
       "0         0      195  106.0   70.0  26.97         80       77           0   \n",
       "1         0      250  121.0   81.0  28.73         95       76           0   \n",
       "\n",
       "   Gender  \n",
       "0    Male  \n",
       "1  Female  "
      ]
     },
     "execution_count": 19,
     "metadata": {},
     "output_type": "execute_result"
    }
   ],
   "source": [
    "dataset.head(2)"
   ]
  },
  {
   "cell_type": "code",
   "execution_count": 20,
   "id": "18b24d10",
   "metadata": {},
   "outputs": [
    {
     "name": "stderr",
     "output_type": "stream",
     "text": [
      "C:\\Users\\doshi\\AppData\\Local\\Temp\\ipykernel_29472\\2191645083.py:1: FutureWarning: The default value of numeric_only in DataFrame.corr is deprecated. In a future version, it will default to False. Select only valid columns or specify the value of numeric_only to silence this warning.\n",
      "  dataset.corr()\n"
     ]
    },
    {
     "data": {
      "text/html": [
       "<div>\n",
       "<style scoped>\n",
       "    .dataframe tbody tr th:only-of-type {\n",
       "        vertical-align: middle;\n",
       "    }\n",
       "\n",
       "    .dataframe tbody tr th {\n",
       "        vertical-align: top;\n",
       "    }\n",
       "\n",
       "    .dataframe thead th {\n",
       "        text-align: right;\n",
       "    }\n",
       "</style>\n",
       "<table border=\"1\" class=\"dataframe\">\n",
       "  <thead>\n",
       "    <tr style=\"text-align: right;\">\n",
       "      <th></th>\n",
       "      <th>age</th>\n",
       "      <th>currentSmoker</th>\n",
       "      <th>cigsPerDay</th>\n",
       "      <th>BPMeds</th>\n",
       "      <th>prevalentStroke</th>\n",
       "      <th>prevalentHyp</th>\n",
       "      <th>diabetes</th>\n",
       "      <th>totChol</th>\n",
       "      <th>sysBP</th>\n",
       "      <th>diaBP</th>\n",
       "      <th>BMI</th>\n",
       "      <th>heartRate</th>\n",
       "      <th>glucose</th>\n",
       "      <th>TenYearCHD</th>\n",
       "    </tr>\n",
       "  </thead>\n",
       "  <tbody>\n",
       "    <tr>\n",
       "      <th>age</th>\n",
       "      <td>1.000000</td>\n",
       "      <td>-0.203316</td>\n",
       "      <td>-0.177191</td>\n",
       "      <td>0.098985</td>\n",
       "      <td>0.051166</td>\n",
       "      <td>0.273232</td>\n",
       "      <td>0.022437</td>\n",
       "      <td>0.263227</td>\n",
       "      <td>0.366694</td>\n",
       "      <td>0.169141</td>\n",
       "      <td>0.116694</td>\n",
       "      <td>-0.036001</td>\n",
       "      <td>0.075417</td>\n",
       "      <td>0.210238</td>\n",
       "    </tr>\n",
       "    <tr>\n",
       "      <th>currentSmoker</th>\n",
       "      <td>-0.203316</td>\n",
       "      <td>1.000000</td>\n",
       "      <td>0.760123</td>\n",
       "      <td>-0.051682</td>\n",
       "      <td>-0.021878</td>\n",
       "      <td>-0.086516</td>\n",
       "      <td>-0.010778</td>\n",
       "      <td>-0.038556</td>\n",
       "      <td>-0.117442</td>\n",
       "      <td>-0.103913</td>\n",
       "      <td>-0.163523</td>\n",
       "      <td>0.067806</td>\n",
       "      <td>-0.064950</td>\n",
       "      <td>0.033161</td>\n",
       "    </tr>\n",
       "    <tr>\n",
       "      <th>cigsPerDay</th>\n",
       "      <td>-0.177191</td>\n",
       "      <td>0.760123</td>\n",
       "      <td>1.000000</td>\n",
       "      <td>-0.044214</td>\n",
       "      <td>-0.025317</td>\n",
       "      <td>-0.043478</td>\n",
       "      <td>-0.004495</td>\n",
       "      <td>-0.019240</td>\n",
       "      <td>-0.063316</td>\n",
       "      <td>-0.039867</td>\n",
       "      <td>-0.083181</td>\n",
       "      <td>0.077798</td>\n",
       "      <td>-0.074550</td>\n",
       "      <td>0.067460</td>\n",
       "    </tr>\n",
       "    <tr>\n",
       "      <th>BPMeds</th>\n",
       "      <td>0.098985</td>\n",
       "      <td>-0.051682</td>\n",
       "      <td>-0.044214</td>\n",
       "      <td>1.000000</td>\n",
       "      <td>0.112081</td>\n",
       "      <td>0.243405</td>\n",
       "      <td>0.012861</td>\n",
       "      <td>0.058737</td>\n",
       "      <td>0.190924</td>\n",
       "      <td>0.140951</td>\n",
       "      <td>0.080915</td>\n",
       "      <td>-0.002234</td>\n",
       "      <td>-0.011684</td>\n",
       "      <td>0.064526</td>\n",
       "    </tr>\n",
       "    <tr>\n",
       "      <th>prevalentStroke</th>\n",
       "      <td>0.051166</td>\n",
       "      <td>-0.021878</td>\n",
       "      <td>-0.025317</td>\n",
       "      <td>0.112081</td>\n",
       "      <td>1.000000</td>\n",
       "      <td>0.076633</td>\n",
       "      <td>-0.005357</td>\n",
       "      <td>-0.012395</td>\n",
       "      <td>0.058826</td>\n",
       "      <td>0.049231</td>\n",
       "      <td>0.007274</td>\n",
       "      <td>-0.012282</td>\n",
       "      <td>-0.011565</td>\n",
       "      <td>0.066452</td>\n",
       "    </tr>\n",
       "    <tr>\n",
       "      <th>prevalentHyp</th>\n",
       "      <td>0.273232</td>\n",
       "      <td>-0.086516</td>\n",
       "      <td>-0.043478</td>\n",
       "      <td>0.243405</td>\n",
       "      <td>0.076633</td>\n",
       "      <td>1.000000</td>\n",
       "      <td>0.041048</td>\n",
       "      <td>0.154751</td>\n",
       "      <td>0.688566</td>\n",
       "      <td>0.591917</td>\n",
       "      <td>0.280026</td>\n",
       "      <td>0.123827</td>\n",
       "      <td>0.044150</td>\n",
       "      <td>0.144680</td>\n",
       "    </tr>\n",
       "    <tr>\n",
       "      <th>diabetes</th>\n",
       "      <td>0.022437</td>\n",
       "      <td>-0.010778</td>\n",
       "      <td>-0.004495</td>\n",
       "      <td>0.012861</td>\n",
       "      <td>-0.005357</td>\n",
       "      <td>0.041048</td>\n",
       "      <td>1.000000</td>\n",
       "      <td>0.016672</td>\n",
       "      <td>0.035710</td>\n",
       "      <td>0.022191</td>\n",
       "      <td>0.012636</td>\n",
       "      <td>0.012194</td>\n",
       "      <td>0.004679</td>\n",
       "      <td>0.001600</td>\n",
       "    </tr>\n",
       "    <tr>\n",
       "      <th>totChol</th>\n",
       "      <td>0.263227</td>\n",
       "      <td>-0.038556</td>\n",
       "      <td>-0.019240</td>\n",
       "      <td>0.058737</td>\n",
       "      <td>-0.012395</td>\n",
       "      <td>0.154751</td>\n",
       "      <td>0.016672</td>\n",
       "      <td>1.000000</td>\n",
       "      <td>0.211563</td>\n",
       "      <td>0.175473</td>\n",
       "      <td>0.127916</td>\n",
       "      <td>0.095970</td>\n",
       "      <td>0.025472</td>\n",
       "      <td>0.067283</td>\n",
       "    </tr>\n",
       "    <tr>\n",
       "      <th>sysBP</th>\n",
       "      <td>0.366694</td>\n",
       "      <td>-0.117442</td>\n",
       "      <td>-0.063316</td>\n",
       "      <td>0.190924</td>\n",
       "      <td>0.058826</td>\n",
       "      <td>0.688566</td>\n",
       "      <td>0.035710</td>\n",
       "      <td>0.211563</td>\n",
       "      <td>1.000000</td>\n",
       "      <td>0.751454</td>\n",
       "      <td>0.295034</td>\n",
       "      <td>0.164394</td>\n",
       "      <td>0.066176</td>\n",
       "      <td>0.168133</td>\n",
       "    </tr>\n",
       "    <tr>\n",
       "      <th>diaBP</th>\n",
       "      <td>0.169141</td>\n",
       "      <td>-0.103913</td>\n",
       "      <td>-0.039867</td>\n",
       "      <td>0.140951</td>\n",
       "      <td>0.049231</td>\n",
       "      <td>0.591917</td>\n",
       "      <td>0.022191</td>\n",
       "      <td>0.175473</td>\n",
       "      <td>0.751454</td>\n",
       "      <td>1.000000</td>\n",
       "      <td>0.346560</td>\n",
       "      <td>0.165136</td>\n",
       "      <td>0.019713</td>\n",
       "      <td>0.099667</td>\n",
       "    </tr>\n",
       "    <tr>\n",
       "      <th>BMI</th>\n",
       "      <td>0.116694</td>\n",
       "      <td>-0.163523</td>\n",
       "      <td>-0.083181</td>\n",
       "      <td>0.080915</td>\n",
       "      <td>0.007274</td>\n",
       "      <td>0.280026</td>\n",
       "      <td>0.012636</td>\n",
       "      <td>0.127916</td>\n",
       "      <td>0.295034</td>\n",
       "      <td>0.346560</td>\n",
       "      <td>1.000000</td>\n",
       "      <td>0.045315</td>\n",
       "      <td>0.057414</td>\n",
       "      <td>0.054862</td>\n",
       "    </tr>\n",
       "    <tr>\n",
       "      <th>heartRate</th>\n",
       "      <td>-0.036001</td>\n",
       "      <td>0.067806</td>\n",
       "      <td>0.077798</td>\n",
       "      <td>-0.002234</td>\n",
       "      <td>-0.012282</td>\n",
       "      <td>0.123827</td>\n",
       "      <td>0.012194</td>\n",
       "      <td>0.095970</td>\n",
       "      <td>0.164394</td>\n",
       "      <td>0.165136</td>\n",
       "      <td>0.045315</td>\n",
       "      <td>1.000000</td>\n",
       "      <td>0.067261</td>\n",
       "      <td>0.014605</td>\n",
       "    </tr>\n",
       "    <tr>\n",
       "      <th>glucose</th>\n",
       "      <td>0.075417</td>\n",
       "      <td>-0.064950</td>\n",
       "      <td>-0.074550</td>\n",
       "      <td>-0.011684</td>\n",
       "      <td>-0.011565</td>\n",
       "      <td>0.044150</td>\n",
       "      <td>0.004679</td>\n",
       "      <td>0.025472</td>\n",
       "      <td>0.066176</td>\n",
       "      <td>0.019713</td>\n",
       "      <td>0.057414</td>\n",
       "      <td>0.067261</td>\n",
       "      <td>1.000000</td>\n",
       "      <td>0.010295</td>\n",
       "    </tr>\n",
       "    <tr>\n",
       "      <th>TenYearCHD</th>\n",
       "      <td>0.210238</td>\n",
       "      <td>0.033161</td>\n",
       "      <td>0.067460</td>\n",
       "      <td>0.064526</td>\n",
       "      <td>0.066452</td>\n",
       "      <td>0.144680</td>\n",
       "      <td>0.001600</td>\n",
       "      <td>0.067283</td>\n",
       "      <td>0.168133</td>\n",
       "      <td>0.099667</td>\n",
       "      <td>0.054862</td>\n",
       "      <td>0.014605</td>\n",
       "      <td>0.010295</td>\n",
       "      <td>1.000000</td>\n",
       "    </tr>\n",
       "  </tbody>\n",
       "</table>\n",
       "</div>"
      ],
      "text/plain": [
       "                      age  currentSmoker  cigsPerDay    BPMeds  \\\n",
       "age              1.000000      -0.203316   -0.177191  0.098985   \n",
       "currentSmoker   -0.203316       1.000000    0.760123 -0.051682   \n",
       "cigsPerDay      -0.177191       0.760123    1.000000 -0.044214   \n",
       "BPMeds           0.098985      -0.051682   -0.044214  1.000000   \n",
       "prevalentStroke  0.051166      -0.021878   -0.025317  0.112081   \n",
       "prevalentHyp     0.273232      -0.086516   -0.043478  0.243405   \n",
       "diabetes         0.022437      -0.010778   -0.004495  0.012861   \n",
       "totChol          0.263227      -0.038556   -0.019240  0.058737   \n",
       "sysBP            0.366694      -0.117442   -0.063316  0.190924   \n",
       "diaBP            0.169141      -0.103913   -0.039867  0.140951   \n",
       "BMI              0.116694      -0.163523   -0.083181  0.080915   \n",
       "heartRate       -0.036001       0.067806    0.077798 -0.002234   \n",
       "glucose          0.075417      -0.064950   -0.074550 -0.011684   \n",
       "TenYearCHD       0.210238       0.033161    0.067460  0.064526   \n",
       "\n",
       "                 prevalentStroke  prevalentHyp  diabetes   totChol     sysBP  \\\n",
       "age                     0.051166      0.273232  0.022437  0.263227  0.366694   \n",
       "currentSmoker          -0.021878     -0.086516 -0.010778 -0.038556 -0.117442   \n",
       "cigsPerDay             -0.025317     -0.043478 -0.004495 -0.019240 -0.063316   \n",
       "BPMeds                  0.112081      0.243405  0.012861  0.058737  0.190924   \n",
       "prevalentStroke         1.000000      0.076633 -0.005357 -0.012395  0.058826   \n",
       "prevalentHyp            0.076633      1.000000  0.041048  0.154751  0.688566   \n",
       "diabetes               -0.005357      0.041048  1.000000  0.016672  0.035710   \n",
       "totChol                -0.012395      0.154751  0.016672  1.000000  0.211563   \n",
       "sysBP                   0.058826      0.688566  0.035710  0.211563  1.000000   \n",
       "diaBP                   0.049231      0.591917  0.022191  0.175473  0.751454   \n",
       "BMI                     0.007274      0.280026  0.012636  0.127916  0.295034   \n",
       "heartRate              -0.012282      0.123827  0.012194  0.095970  0.164394   \n",
       "glucose                -0.011565      0.044150  0.004679  0.025472  0.066176   \n",
       "TenYearCHD              0.066452      0.144680  0.001600  0.067283  0.168133   \n",
       "\n",
       "                    diaBP       BMI  heartRate   glucose  TenYearCHD  \n",
       "age              0.169141  0.116694  -0.036001  0.075417    0.210238  \n",
       "currentSmoker   -0.103913 -0.163523   0.067806 -0.064950    0.033161  \n",
       "cigsPerDay      -0.039867 -0.083181   0.077798 -0.074550    0.067460  \n",
       "BPMeds           0.140951  0.080915  -0.002234 -0.011684    0.064526  \n",
       "prevalentStroke  0.049231  0.007274  -0.012282 -0.011565    0.066452  \n",
       "prevalentHyp     0.591917  0.280026   0.123827  0.044150    0.144680  \n",
       "diabetes         0.022191  0.012636   0.012194  0.004679    0.001600  \n",
       "totChol          0.175473  0.127916   0.095970  0.025472    0.067283  \n",
       "sysBP            0.751454  0.295034   0.164394  0.066176    0.168133  \n",
       "diaBP            1.000000  0.346560   0.165136  0.019713    0.099667  \n",
       "BMI              0.346560  1.000000   0.045315  0.057414    0.054862  \n",
       "heartRate        0.165136  0.045315   1.000000  0.067261    0.014605  \n",
       "glucose          0.019713  0.057414   0.067261  1.000000    0.010295  \n",
       "TenYearCHD       0.099667  0.054862   0.014605  0.010295    1.000000  "
      ]
     },
     "execution_count": 20,
     "metadata": {},
     "output_type": "execute_result"
    }
   ],
   "source": [
    "dataset.corr()"
   ]
  },
  {
   "cell_type": "code",
   "execution_count": 21,
   "id": "7dae18f0",
   "metadata": {},
   "outputs": [
    {
     "name": "stderr",
     "output_type": "stream",
     "text": [
      "C:\\Users\\doshi\\AppData\\Local\\Temp\\ipykernel_29472\\2500993783.py:2: FutureWarning: The default value of numeric_only in DataFrame.corr is deprecated. In a future version, it will default to False. Select only valid columns or specify the value of numeric_only to silence this warning.\n",
      "  sns.heatmap(dataset.corr(),annot=True)\n"
     ]
    },
    {
     "data": {
      "text/plain": [
       "<Axes: >"
      ]
     },
     "execution_count": 21,
     "metadata": {},
     "output_type": "execute_result"
    },
    {
     "data": {
      "image/png": "[encoded data removed]",
      "text/plain": [
       "<Figure size 1000x800 with 2 Axes>"
      ]
     },
     "metadata": {},
     "output_type": "display_data"
    }
   ],
   "source": [
    "plt.figure(figsize=(10,8))\n",
    "sns.heatmap(dataset.corr(),annot=True)"
   ]
  },
  {
   "cell_type": "code",
   "execution_count": 22,
   "id": "955cbc4d",
   "metadata": {},
   "outputs": [],
   "source": [
    "from sklearn.preprocessing import LabelEncoder\n",
    "le=LabelEncoder()\n",
    "le.fit(dataset[\"Gender\"])\n",
    "dataset[\"Gender\"]=le.transform(dataset[\"Gender\"])"
   ]
  },
  {
   "cell_type": "code",
   "execution_count": 23,
   "id": "e6e04178",
   "metadata": {},
   "outputs": [],
   "source": [
    "inp=dataset[[\"age\",\"Gender\",\"cigsPerDay\",\"totChol\",\"sysBP\",\"diaBP\",\"BMI\",\"heartRate\",\"glucose\"]]\n",
    "out=dataset[\"TenYearCHD\"]"
   ]
  },
  {
   "cell_type": "code",
   "execution_count": 24,
   "id": "c402548e",
   "metadata": {},
   "outputs": [
    {
     "data": {
      "text/html": [
       "<div>\n",
       "<style scoped>\n",
       "    .dataframe tbody tr th:only-of-type {\n",
       "        vertical-align: middle;\n",
       "    }\n",
       "\n",
       "    .dataframe tbody tr th {\n",
       "        vertical-align: top;\n",
       "    }\n",
       "\n",
       "    .dataframe thead th {\n",
       "        text-align: right;\n",
       "    }\n",
       "</style>\n",
       "<table border=\"1\" class=\"dataframe\">\n",
       "  <thead>\n",
       "    <tr style=\"text-align: right;\">\n",
       "      <th></th>\n",
       "      <th>age</th>\n",
       "      <th>Gender</th>\n",
       "      <th>cigsPerDay</th>\n",
       "      <th>totChol</th>\n",
       "      <th>sysBP</th>\n",
       "      <th>diaBP</th>\n",
       "      <th>BMI</th>\n",
       "      <th>heartRate</th>\n",
       "      <th>glucose</th>\n",
       "    </tr>\n",
       "  </thead>\n",
       "  <tbody>\n",
       "    <tr>\n",
       "      <th>0</th>\n",
       "      <td>-1.190890</td>\n",
       "      <td>1.145119</td>\n",
       "      <td>-0.762102</td>\n",
       "      <td>-0.931187</td>\n",
       "      <td>-1.291937</td>\n",
       "      <td>-1.123099</td>\n",
       "      <td>0.355075</td>\n",
       "      <td>0.380719</td>\n",
       "      <td>-0.084795</td>\n",
       "    </tr>\n",
       "    <tr>\n",
       "      <th>1</th>\n",
       "      <td>-0.365423</td>\n",
       "      <td>-0.873272</td>\n",
       "      <td>-0.762102</td>\n",
       "      <td>0.327441</td>\n",
       "      <td>-0.463516</td>\n",
       "      <td>-0.064743</td>\n",
       "      <td>0.811604</td>\n",
       "      <td>1.641624</td>\n",
       "      <td>-0.185016</td>\n",
       "    </tr>\n",
       "    <tr>\n",
       "      <th>2</th>\n",
       "      <td>-0.129575</td>\n",
       "      <td>1.145119</td>\n",
       "      <td>0.902318</td>\n",
       "      <td>0.213020</td>\n",
       "      <td>-0.104533</td>\n",
       "      <td>-0.160957</td>\n",
       "      <td>-0.067733</td>\n",
       "      <td>-0.039582</td>\n",
       "      <td>-0.786344</td>\n",
       "    </tr>\n",
       "    <tr>\n",
       "      <th>3</th>\n",
       "      <td>1.403435</td>\n",
       "      <td>-0.873272</td>\n",
       "      <td>1.734528</td>\n",
       "      <td>-0.244663</td>\n",
       "      <td>1.138100</td>\n",
       "      <td>1.282255</td>\n",
       "      <td>0.772695</td>\n",
       "      <td>-0.880185</td>\n",
       "      <td>2.520961</td>\n",
       "    </tr>\n",
       "    <tr>\n",
       "      <th>4</th>\n",
       "      <td>-0.365423</td>\n",
       "      <td>-0.873272</td>\n",
       "      <td>1.151981</td>\n",
       "      <td>1.128386</td>\n",
       "      <td>0.033538</td>\n",
       "      <td>0.223899</td>\n",
       "      <td>-0.648770</td>\n",
       "      <td>0.801021</td>\n",
       "      <td>0.716976</td>\n",
       "    </tr>\n",
       "    <tr>\n",
       "      <th>...</th>\n",
       "      <td>...</td>\n",
       "      <td>...</td>\n",
       "      <td>...</td>\n",
       "      <td>...</td>\n",
       "      <td>...</td>\n",
       "      <td>...</td>\n",
       "      <td>...</td>\n",
       "      <td>...</td>\n",
       "      <td>...</td>\n",
       "    </tr>\n",
       "    <tr>\n",
       "      <th>3841</th>\n",
       "      <td>2.228902</td>\n",
       "      <td>1.145119</td>\n",
       "      <td>-0.762102</td>\n",
       "      <td>-1.365986</td>\n",
       "      <td>2.132206</td>\n",
       "      <td>1.474683</td>\n",
       "      <td>-0.638394</td>\n",
       "      <td>-1.300487</td>\n",
       "      <td>0.115648</td>\n",
       "    </tr>\n",
       "    <tr>\n",
       "      <th>3842</th>\n",
       "      <td>0.106273</td>\n",
       "      <td>1.145119</td>\n",
       "      <td>-0.678881</td>\n",
       "      <td>1.769142</td>\n",
       "      <td>2.739715</td>\n",
       "      <td>0.993613</td>\n",
       "      <td>0.095683</td>\n",
       "      <td>-0.796125</td>\n",
       "      <td>0.817198</td>\n",
       "    </tr>\n",
       "    <tr>\n",
       "      <th>3843</th>\n",
       "      <td>0.224196</td>\n",
       "      <td>1.145119</td>\n",
       "      <td>2.816400</td>\n",
       "      <td>-0.656577</td>\n",
       "      <td>-0.159761</td>\n",
       "      <td>-0.160957</td>\n",
       "      <td>-1.528107</td>\n",
       "      <td>-0.880185</td>\n",
       "      <td>-0.986787</td>\n",
       "    </tr>\n",
       "    <tr>\n",
       "      <th>3844</th>\n",
       "      <td>-0.129575</td>\n",
       "      <td>-0.873272</td>\n",
       "      <td>0.902318</td>\n",
       "      <td>0.281673</td>\n",
       "      <td>0.088766</td>\n",
       "      <td>-0.930671</td>\n",
       "      <td>-0.934100</td>\n",
       "      <td>0.716961</td>\n",
       "      <td>0.817198</td>\n",
       "    </tr>\n",
       "    <tr>\n",
       "      <th>3845</th>\n",
       "      <td>-0.601271</td>\n",
       "      <td>-0.873272</td>\n",
       "      <td>0.486213</td>\n",
       "      <td>-0.587925</td>\n",
       "      <td>-0.159761</td>\n",
       "      <td>0.512542</td>\n",
       "      <td>-1.670772</td>\n",
       "      <td>0.885081</td>\n",
       "      <td>0.015427</td>\n",
       "    </tr>\n",
       "  </tbody>\n",
       "</table>\n",
       "<p>3846 rows × 9 columns</p>\n",
       "</div>"
      ],
      "text/plain": [
       "           age    Gender  cigsPerDay   totChol     sysBP     diaBP       BMI  \\\n",
       "0    -1.190890  1.145119   -0.762102 -0.931187 -1.291937 -1.123099  0.355075   \n",
       "1    -0.365423 -0.873272   -0.762102  0.327441 -0.463516 -0.064743  0.811604   \n",
       "2    -0.129575  1.145119    0.902318  0.213020 -0.104533 -0.160957 -0.067733   \n",
       "3     1.403435 -0.873272    1.734528 -0.244663  1.138100  1.282255  0.772695   \n",
       "4    -0.365423 -0.873272    1.151981  1.128386  0.033538  0.223899 -0.648770   \n",
       "...        ...       ...         ...       ...       ...       ...       ...   \n",
       "3841  2.228902  1.145119   -0.762102 -1.365986  2.132206  1.474683 -0.638394   \n",
       "3842  0.106273  1.145119   -0.678881  1.769142  2.739715  0.993613  0.095683   \n",
       "3843  0.224196  1.145119    2.816400 -0.656577 -0.159761 -0.160957 -1.528107   \n",
       "3844 -0.129575 -0.873272    0.902318  0.281673  0.088766 -0.930671 -0.934100   \n",
       "3845 -0.601271 -0.873272    0.486213 -0.587925 -0.159761  0.512542 -1.670772   \n",
       "\n",
       "      heartRate   glucose  \n",
       "0      0.380719 -0.084795  \n",
       "1      1.641624 -0.185016  \n",
       "2     -0.039582 -0.786344  \n",
       "3     -0.880185  2.520961  \n",
       "4      0.801021  0.716976  \n",
       "...         ...       ...  \n",
       "3841  -1.300487  0.115648  \n",
       "3842  -0.796125  0.817198  \n",
       "3843  -0.880185 -0.986787  \n",
       "3844   0.716961  0.817198  \n",
       "3845   0.885081  0.015427  \n",
       "\n",
       "[3846 rows x 9 columns]"
      ]
     },
     "execution_count": 24,
     "metadata": {},
     "output_type": "execute_result"
    }
   ],
   "source": [
    "from sklearn.preprocessing import StandardScaler\n",
    "ss=StandardScaler()\n",
    "ss.fit(inp)\n",
    "inp=pd.DataFrame(ss.transform(inp),columns=inp.columns)\n",
    "inp"
   ]
  },
  {
   "cell_type": "markdown",
   "id": "bf0a87bb",
   "metadata": {},
   "source": [
    "# Balancing Output data"
   ]
  },
  {
   "cell_type": "code",
   "execution_count": 25,
   "id": "be85b762",
   "metadata": {},
   "outputs": [
    {
     "data": {
      "text/plain": [
       "0    3325\n",
       "1     521\n",
       "Name: TenYearCHD, dtype: int64"
      ]
     },
     "execution_count": 25,
     "metadata": {},
     "output_type": "execute_result"
    }
   ],
   "source": [
    "out.value_counts()"
   ]
  },
  {
   "cell_type": "markdown",
   "id": "a3bc1cc3",
   "metadata": {},
   "source": [
    "# Over Sampling"
   ]
  },
  {
   "cell_type": "code",
   "execution_count": 26,
   "id": "aa2f26b0",
   "metadata": {},
   "outputs": [],
   "source": [
    "from imblearn.over_sampling import RandomOverSampler\n",
    "Ro=RandomOverSampler()\n",
    "x,y=Ro.fit_resample(inp,out)\n",
    "y.value_counts()\n",
    "from sklearn.model_selection import train_test_split\n",
    "x_train,x_test,y_train,y_test=train_test_split(x,y,test_size=0.3,random_state=3)"
   ]
  },
  {
   "cell_type": "code",
   "execution_count": 27,
   "id": "bd7f0add",
   "metadata": {},
   "outputs": [
    {
     "data": {
      "text/plain": [
       "(6650, 9)"
      ]
     },
     "execution_count": 27,
     "metadata": {},
     "output_type": "execute_result"
    }
   ],
   "source": [
    "x.shape"
   ]
  },
  {
   "cell_type": "code",
   "execution_count": 28,
   "id": "2a59c3f2",
   "metadata": {},
   "outputs": [
    {
     "data": {
      "text/plain": [
       "(6650,)"
      ]
     },
     "execution_count": 28,
     "metadata": {},
     "output_type": "execute_result"
    }
   ],
   "source": [
    "y.shape"
   ]
  },
  {
   "cell_type": "code",
   "execution_count": 29,
   "id": "d3e6baf5",
   "metadata": {},
   "outputs": [
    {
     "data": {
      "text/plain": [
       "(66.27282491944146, 65.96491228070175)"
      ]
     },
     "execution_count": 29,
     "metadata": {},
     "output_type": "execute_result"
    }
   ],
   "source": [
    "from sklearn.linear_model import LogisticRegression\n",
    "lr=LogisticRegression()\n",
    "lr.fit(x_train,y_train)\n",
    "lr.score(x_train,y_train)*100,lr.score(x_test,y_test)*100"
   ]
  },
  {
   "cell_type": "markdown",
   "id": "2e32ebc6",
   "metadata": {},
   "source": [
    "# Decision Tree Classifier(Over Sampling)"
   ]
  },
  {
   "cell_type": "code",
   "execution_count": 30,
   "id": "fd799794",
   "metadata": {},
   "outputs": [
    {
     "data": {
      "text/plain": [
       "(62.77121374865736, 64.16040100250626)"
      ]
     },
     "execution_count": 30,
     "metadata": {},
     "output_type": "execute_result"
    }
   ],
   "source": [
    "from sklearn.metrics import confusion_matrix,recall_score,accuracy_score\n",
    "from sklearn.model_selection import cross_val_score\n",
    "from sklearn.tree import DecisionTreeClassifier\n",
    "dc=DecisionTreeClassifier(criterion=\"entropy\",splitter='best',max_depth=1)\n",
    "dc.fit(x_train,y_train)\n",
    "dc.score(x_train,y_train)*100,dc.score(x_test,y_test)*100"
   ]
  },
  {
   "cell_type": "code",
   "execution_count": 31,
   "id": "99be3884",
   "metadata": {},
   "outputs": [
    {
     "data": {
      "text/plain": [
       "(90.22556390977444, 98.49624060150376)"
      ]
     },
     "execution_count": 31,
     "metadata": {},
     "output_type": "execute_result"
    }
   ],
   "source": [
    "cv1=cross_val_score(DecisionTreeClassifier(criterion=\"gini\",splitter='best'),x,y,cv=50)*100\n",
    "min(cv1),max(cv1)"
   ]
  },
  {
   "cell_type": "code",
   "execution_count": 32,
   "id": "386fd727",
   "metadata": {},
   "outputs": [
    {
     "data": {
      "text/plain": [
       "(0.865574451556246,\n",
       " {'criterion': 'entropy', 'max_depth': 4, 'splitter': 'random'})"
      ]
     },
     "execution_count": 32,
     "metadata": {},
     "output_type": "execute_result"
    }
   ],
   "source": [
    "from sklearn.model_selection import GridSearchCV\n",
    "pr={\"criterion\": [\"gini\", \"entropy\", \"log_loss\"],\n",
    "    \"splitter\" : [\"best\", \"random\"],\n",
    "    \"max_depth\":[i for i in range(1,50)]}\n",
    "gd=GridSearchCV(estimator=dc,param_grid=pr)\n",
    "gd.fit(inp,out)\n",
    "gd.best_score_,gd.best_params_"
   ]
  },
  {
   "cell_type": "code",
   "execution_count": 33,
   "id": "07b138b0",
   "metadata": {},
   "outputs": [
    {
     "data": {
      "text/plain": [
       "(100.0, 97.84461152882206)"
      ]
     },
     "execution_count": 33,
     "metadata": {},
     "output_type": "execute_result"
    }
   ],
   "source": [
    "from sklearn.ensemble import BaggingClassifier\n",
    "bg=BaggingClassifier(DecisionTreeClassifier(criterion=\"gini\",splitter='best',max_features=3),n_estimators=80)\n",
    "bg.fit(x_train,y_train)\n",
    "bg.score(x_train,y_train)*100,bg.score(x_test,y_test)*100"
   ]
  },
  {
   "cell_type": "code",
   "execution_count": 34,
   "id": "86d89315",
   "metadata": {},
   "outputs": [
    {
     "name": "stdout",
     "output_type": "stream",
     "text": [
      "Decision Tree Classifier \n"
     ]
    },
    {
     "data": {
      "image/png": "[encoded data removed]",
      "text/plain": [
       "<Figure size 640x480 with 2 Axes>"
      ]
     },
     "metadata": {},
     "output_type": "display_data"
    },
    {
     "name": "stdout",
     "output_type": "stream",
     "text": [
      "Accuracy :  97.84461152882206\n",
      "F1 Score:  97.90754257907543\n",
      "Recall Score:  100.0\n",
      "Precision Score:  95.90085795996187\n"
     ]
    }
   ],
   "source": [
    "from sklearn.metrics import f1_score,recall_score,precision_score,accuracy_score,confusion_matrix\n",
    "accuracy=accuracy_score(y_test,bg.predict(x_test))*100\n",
    "f1=f1_score(y_test,bg.predict(x_test))*100\n",
    "recall=recall_score(y_test,bg.predict(x_test))*100\n",
    "precision=precision_score(y_test,bg.predict(x_test))*100\n",
    "conf_mat=confusion_matrix(y_test,bg.predict(x_test))\n",
    "print(\"Decision Tree Classifier \")\n",
    "sns.heatmap(conf_mat,annot=True,cmap=\"Blues\",xticklabels=[\"No\",\"Yes\"],yticklabels=[\"No\",\"Yes\"],fmt=\"d\")\n",
    "plt.xlabel(\"Predicted label\")\n",
    "plt.ylabel(\"True Label\")\n",
    "plt.show()\n",
    "\n",
    "print(\"Accuracy : \",accuracy)\n",
    "print(\"F1 Score: \",f1)\n",
    "print(\"Recall Score: \",recall)\n",
    "print(\"Precision Score: \",precision)"
   ]
  },
  {
   "cell_type": "code",
   "execution_count": 35,
   "id": "b776fbbd",
   "metadata": {},
   "outputs": [
    {
     "data": {
      "text/plain": [
       "(71.8796992481203, 70.0250626566416)"
      ]
     },
     "execution_count": 35,
     "metadata": {},
     "output_type": "execute_result"
    }
   ],
   "source": [
    "from sklearn.ensemble import GradientBoostingClassifier\n",
    "gbc=GradientBoostingClassifier(loss='log_loss',n_estimators=100,criterion='squared_error',learning_rate=0.05,max_features=3,verbose=0)\n",
    "gbc.fit(x_train,y_train)\n",
    "gbc.score(x_train,y_train)*100,gbc.score(x_test,y_test)*100"
   ]
  },
  {
   "cell_type": "code",
   "execution_count": 36,
   "id": "f4a26338",
   "metadata": {},
   "outputs": [
    {
     "name": "stdout",
     "output_type": "stream",
     "text": [
      "Gradient Boosting Using Decision Tree Classifier \n"
     ]
    },
    {
     "data": {
      "image/png": "[encoded data removed]",
      "text/plain": [
       "<Figure size 640x480 with 2 Axes>"
      ]
     },
     "metadata": {},
     "output_type": "display_data"
    },
    {
     "name": "stdout",
     "output_type": "stream",
     "text": [
      "Accuracy :  70.0250626566416\n",
      "F1 Score:  71.13899613899615\n",
      "Recall Score:  73.26043737574552\n",
      "Precision Score:  69.13696060037523\n"
     ]
    }
   ],
   "source": [
    "from sklearn.metrics import f1_score,recall_score,precision_score,accuracy_score,confusion_matrix\n",
    "accuracy=accuracy_score(y_test,gbc.predict(x_test))*100\n",
    "f1=f1_score(y_test,gbc.predict(x_test))*100\n",
    "recall=recall_score(y_test,gbc.predict(x_test))*100\n",
    "precision=precision_score(y_test,gbc.predict(x_test))*100\n",
    "conf_mat=confusion_matrix(y_test,gbc.predict(x_test))\n",
    "print(\"Gradient Boosting Using Decision Tree Classifier \")\n",
    "sns.heatmap(conf_mat,annot=True,cmap=\"Blues\",xticklabels=[\"No\",\"Yes\"],yticklabels=[\"No\",\"Yes\"],fmt=\"d\")\n",
    "plt.xlabel(\"Predicted label\")\n",
    "plt.ylabel(\"True Label\")\n",
    "plt.show()\n",
    "\n",
    "print(\"Accuracy : \",accuracy)\n",
    "print(\"F1 Score: \",f1)\n",
    "print(\"Recall Score: \",recall)\n",
    "print(\"Precision Score: \",precision)"
   ]
  },
  {
   "cell_type": "markdown",
   "id": "9eb3bd90",
   "metadata": {},
   "source": [
    "# Random Forest Classification"
   ]
  },
  {
   "cell_type": "code",
   "execution_count": 37,
   "id": "149413a7",
   "metadata": {},
   "outputs": [
    {
     "data": {
      "text/plain": [
       "(62.77121374865736, 64.16040100250626)"
      ]
     },
     "execution_count": 37,
     "metadata": {},
     "output_type": "execute_result"
    }
   ],
   "source": [
    "from sklearn.ensemble import RandomForestClassifier\n",
    "rfc=RandomForestClassifier(n_estimators=30,criterion=\"entropy\",max_features=\"sqrt\",ccp_alpha=0.05)\n",
    "rfc.fit(x_train,y_train)\n",
    "rfc.score(x_train,y_train)*100,rfc.score(x_test,y_test)*100"
   ]
  },
  {
   "cell_type": "code",
   "execution_count": 38,
   "id": "f9ca0c61",
   "metadata": {
    "scrolled": true
   },
   "outputs": [
    {
     "data": {
      "text/plain": [
       "(93.17293233082707, 94.3157894736842)"
      ]
     },
     "execution_count": 38,
     "metadata": {},
     "output_type": "execute_result"
    }
   ],
   "source": [
    "cv3=cross_val_score(RandomForestClassifier(n_estimators=50,criterion=\"gini\",max_features=\"sqrt\"),x,y,cv=2)*100\n",
    "min(cv3),max(cv3)"
   ]
  },
  {
   "cell_type": "code",
   "execution_count": 39,
   "id": "b657d407",
   "metadata": {},
   "outputs": [
    {
     "name": "stderr",
     "output_type": "stream",
     "text": [
      "[Parallel(n_jobs=1)]: Using backend SequentialBackend with 1 concurrent workers.\n",
      "[Parallel(n_jobs=1)]: Done   1 out of   1 | elapsed:    0.0s remaining:    0.0s\n",
      "[Parallel(n_jobs=1)]: Done   2 out of   2 | elapsed:    0.0s remaining:    0.0s\n",
      "[Parallel(n_jobs=1)]: Done   3 out of   3 | elapsed:    0.0s remaining:    0.0s\n"
     ]
    },
    {
     "name": "stdout",
     "output_type": "stream",
     "text": [
      "building tree 1 of 50\n",
      "building tree 2 of 50\n",
      "building tree 3 of 50\n",
      "building tree 4 of 50\n",
      "building tree 5 of 50\n",
      "building tree 6 of 50\n",
      "building tree 7 of 50\n",
      "building tree 8 of 50\n",
      "building tree 9 of 50\n",
      "building tree 10 of 50\n",
      "building tree 11 of 50\n",
      "building tree 12 of 50\n",
      "building tree 13 of 50\n",
      "building tree 14 of 50\n",
      "building tree 15 of 50\n",
      "building tree 16 of 50\n",
      "building tree 17 of 50\n",
      "building tree 18 of 50\n",
      "building tree 19 of 50\n",
      "building tree 20 of 50\n",
      "building tree 21 of 50\n",
      "building tree 22 of 50\n",
      "building tree 23 of 50\n",
      "building tree 24 of 50\n",
      "building tree 25 of 50\n",
      "building tree 26 of 50\n",
      "building tree 27 of 50\n",
      "building tree 28 of 50\n",
      "building tree 29 of 50\n",
      "building tree 30 of 50\n",
      "building tree 31 of 50\n",
      "building tree 32 of 50\n",
      "building tree 33 of 50\n",
      "building tree 34 of 50\n",
      "building tree 35 of 50\n",
      "building tree 36 of 50\n",
      "building tree 37 of 50\n",
      "building tree 38 of 50\n",
      "building tree 39 of 50\n",
      "building tree 40 of 50\n",
      "building tree 41 of 50\n",
      "building tree 42 of 50\n",
      "building tree 43 of 50\n",
      "building tree 44 of 50\n",
      "building tree 45 of 50\n",
      "building tree 46 of 50\n",
      "building tree 47 of 50\n",
      "building tree 48 of 50\n",
      "building tree 49 of 50\n",
      "building tree 50 of 50\n"
     ]
    },
    {
     "name": "stderr",
     "output_type": "stream",
     "text": [
      "[Parallel(n_jobs=1)]: Done  50 out of  50 | elapsed:    0.3s finished\n",
      "[Parallel(n_jobs=1)]: Using backend SequentialBackend with 1 concurrent workers.\n",
      "[Parallel(n_jobs=1)]: Done   1 out of   1 | elapsed:    0.0s remaining:    0.0s\n",
      "[Parallel(n_jobs=1)]: Done   2 out of   2 | elapsed:    0.0s remaining:    0.0s\n",
      "[Parallel(n_jobs=1)]: Done   3 out of   3 | elapsed:    0.0s remaining:    0.0s\n",
      "[Parallel(n_jobs=1)]: Done  50 out of  50 | elapsed:    0.0s finished\n",
      "[Parallel(n_jobs=1)]: Using backend SequentialBackend with 1 concurrent workers.\n",
      "[Parallel(n_jobs=1)]: Done   1 out of   1 | elapsed:    0.0s remaining:    0.0s\n",
      "[Parallel(n_jobs=1)]: Done   2 out of   2 | elapsed:    0.0s remaining:    0.0s\n",
      "[Parallel(n_jobs=1)]: Done   3 out of   3 | elapsed:    0.0s remaining:    0.0s\n",
      "[Parallel(n_jobs=1)]: Done  50 out of  50 | elapsed:    0.0s finished\n",
      "[Parallel(n_jobs=1)]: Using backend SequentialBackend with 1 concurrent workers.\n",
      "[Parallel(n_jobs=1)]: Done   1 out of   1 | elapsed:    0.0s remaining:    0.0s\n",
      "[Parallel(n_jobs=1)]: Done   2 out of   2 | elapsed:    0.0s remaining:    0.0s\n",
      "[Parallel(n_jobs=1)]: Done   3 out of   3 | elapsed:    0.0s remaining:    0.0s\n",
      "[Parallel(n_jobs=1)]: Done  50 out of  50 | elapsed:    0.0s finished\n"
     ]
    },
    {
     "data": {
      "text/plain": [
       "(100.0, 97.64411027568923)"
      ]
     },
     "execution_count": 39,
     "metadata": {},
     "output_type": "execute_result"
    }
   ],
   "source": [
    "from sklearn.ensemble import AdaBoostClassifier\n",
    "abc=AdaBoostClassifier(estimator=RandomForestClassifier(n_estimators=50,criterion=\"gini\",max_features=\"sqrt\",verbose=4),n_estimators=50,learning_rate=0.05)\n",
    "abc.fit(x_train,y_train)\n",
    "abc.score(x_train,y_train)*100,abc.score(x_test,y_test)*100"
   ]
  },
  {
   "cell_type": "code",
   "execution_count": 40,
   "id": "1e0c9d77",
   "metadata": {},
   "outputs": [
    {
     "name": "stderr",
     "output_type": "stream",
     "text": [
      "[Parallel(n_jobs=1)]: Using backend SequentialBackend with 1 concurrent workers.\n",
      "[Parallel(n_jobs=1)]: Done   1 out of   1 | elapsed:    0.0s remaining:    0.0s\n",
      "[Parallel(n_jobs=1)]: Done   2 out of   2 | elapsed:    0.0s remaining:    0.0s\n",
      "[Parallel(n_jobs=1)]: Done   3 out of   3 | elapsed:    0.0s remaining:    0.0s\n",
      "[Parallel(n_jobs=1)]: Done  50 out of  50 | elapsed:    0.0s finished\n",
      "[Parallel(n_jobs=1)]: Using backend SequentialBackend with 1 concurrent workers.\n",
      "[Parallel(n_jobs=1)]: Done   1 out of   1 | elapsed:    0.0s remaining:    0.0s\n",
      "[Parallel(n_jobs=1)]: Done   2 out of   2 | elapsed:    0.0s remaining:    0.0s\n",
      "[Parallel(n_jobs=1)]: Done   3 out of   3 | elapsed:    0.0s remaining:    0.0s\n",
      "[Parallel(n_jobs=1)]: Done  50 out of  50 | elapsed:    0.0s finished\n",
      "[Parallel(n_jobs=1)]: Using backend SequentialBackend with 1 concurrent workers.\n",
      "[Parallel(n_jobs=1)]: Done   1 out of   1 | elapsed:    0.0s remaining:    0.0s\n",
      "[Parallel(n_jobs=1)]: Done   2 out of   2 | elapsed:    0.0s remaining:    0.0s\n",
      "[Parallel(n_jobs=1)]: Done   3 out of   3 | elapsed:    0.0s remaining:    0.0s\n",
      "[Parallel(n_jobs=1)]: Done  50 out of  50 | elapsed:    0.0s finished\n",
      "[Parallel(n_jobs=1)]: Using backend SequentialBackend with 1 concurrent workers.\n",
      "[Parallel(n_jobs=1)]: Done   1 out of   1 | elapsed:    0.0s remaining:    0.0s\n",
      "[Parallel(n_jobs=1)]: Done   2 out of   2 | elapsed:    0.0s remaining:    0.0s\n",
      "[Parallel(n_jobs=1)]: Done   3 out of   3 | elapsed:    0.0s remaining:    0.0s\n",
      "[Parallel(n_jobs=1)]: Done  50 out of  50 | elapsed:    0.0s finished\n",
      "[Parallel(n_jobs=1)]: Using backend SequentialBackend with 1 concurrent workers.\n",
      "[Parallel(n_jobs=1)]: Done   1 out of   1 | elapsed:    0.0s remaining:    0.0s\n",
      "[Parallel(n_jobs=1)]: Done   2 out of   2 | elapsed:    0.0s remaining:    0.0s\n",
      "[Parallel(n_jobs=1)]: Done   3 out of   3 | elapsed:    0.0s remaining:    0.0s\n",
      "[Parallel(n_jobs=1)]: Done  50 out of  50 | elapsed:    0.0s finished\n"
     ]
    },
    {
     "name": "stdout",
     "output_type": "stream",
     "text": [
      "Random Forest Classifier \n"
     ]
    },
    {
     "data": {
      "image/png": "[encoded data removed]",
      "text/plain": [
       "<Figure size 640x480 with 2 Axes>"
      ]
     },
     "metadata": {},
     "output_type": "display_data"
    },
    {
     "name": "stdout",
     "output_type": "stream",
     "text": [
      "Accuracy :  97.64411027568923\n",
      "F1 Score:  97.71733851384167\n",
      "Recall Score:  100.0\n",
      "Precision Score:  95.53656220322887\n"
     ]
    }
   ],
   "source": [
    "from sklearn.metrics import f1_score,recall_score,precision_score,accuracy_score,confusion_matrix\n",
    "accuracy=accuracy_score(y_test,abc.predict(x_test))*100\n",
    "f1=f1_score(y_test,abc.predict(x_test))*100\n",
    "recall=recall_score(y_test,abc.predict(x_test))*100\n",
    "precision=precision_score(y_test,abc.predict(x_test))*100\n",
    "conf_mat=confusion_matrix(y_test,abc.predict(x_test))\n",
    "print(\"Random Forest Classifier \")\n",
    "sns.heatmap(conf_mat,annot=True,cmap=\"Blues\",xticklabels=[\"No\",\"Yes\"],yticklabels=[\"No\",\"Yes\"],fmt=\"d\")\n",
    "plt.xlabel(\"Predicted label\")\n",
    "plt.ylabel(\"True Label\")\n",
    "plt.show()\n",
    "\n",
    "print(\"Accuracy : \",accuracy)\n",
    "print(\"F1 Score: \",f1)\n",
    "print(\"Recall Score: \",recall)\n",
    "print(\"Precision Score: \",precision)"
   ]
  },
  {
   "cell_type": "markdown",
   "id": "a3f9d286",
   "metadata": {},
   "source": [
    "# Final Output(Prediction) "
   ]
  },
  {
   "cell_type": "code",
   "execution_count": 42,
   "id": "297eff2e",
   "metadata": {},
   "outputs": [
    {
     "name": "stdout",
     "output_type": "stream",
     "text": [
      "enter the age: 63\n",
      "Enter Gender: Male\n",
      "enter no. of cigrette per day: 2\n",
      "Total Cholestrol: 260\n",
      "systolic BP: 80\n",
      "Disystolic BP: 120\n",
      "BMI index: 33.5\n",
      "heart beat: 76\n",
      "diabetes level: 190\n",
      "After getting all information of person,we can predict that person may not affected from Coronary Heart Disease\n"
     ]
    },
    {
     "name": "stderr",
     "output_type": "stream",
     "text": [
      "C:\\ProgramData\\anaconda3\\lib\\site-packages\\sklearn\\base.py:420: UserWarning: X does not have valid feature names, but AdaBoostClassifier was fitted with feature names\n",
      "  warnings.warn(\n",
      "[Parallel(n_jobs=1)]: Using backend SequentialBackend with 1 concurrent workers.\n",
      "[Parallel(n_jobs=1)]: Done   1 out of   1 | elapsed:    0.0s remaining:    0.0s\n",
      "[Parallel(n_jobs=1)]: Done   2 out of   2 | elapsed:    0.0s remaining:    0.0s\n",
      "[Parallel(n_jobs=1)]: Done   3 out of   3 | elapsed:    0.0s remaining:    0.0s\n",
      "[Parallel(n_jobs=1)]: Done  50 out of  50 | elapsed:    0.0s finished\n"
     ]
    }
   ],
   "source": [
    "age=int(input(\"enter the age: \"))\n",
    "gender=input(\"Enter Gender: \")\n",
    "cig=int(input(\"enter no. of cigrette per day: \"))\n",
    "total_choles=int(input(\"Total Cholestrol: \"))\n",
    "syt_BP=float(input(\"systolic BP: \"))\n",
    "dia_BP=float(input(\"Disystolic BP: \"))\n",
    "BMI=float(input(\"BMI index: \"))\n",
    "heart_rate=int(input(\"heart beat: \"))\n",
    "glucose=int(input(\"diabetes level: \"))\n",
    "feature=[age,gender,cig,total_choles,syt_BP,dia_BP,BMI,heart_rate,glucose]\n",
    "user_data=le.fit_transform(feature)\n",
    "predicted=abc.predict([user_data])\n",
    "if predicted==0:\n",
    "    print(\"After getting all information of person,we can predict that person may not affected from Coronary Heart Disease\")\n",
    "elif predicted==1:\n",
    "    print(\"After getting all information of person,we can predict that person may get affected from Coronary Heart Disease\")"
   ]
  }
 ],
 "metadata": {
  "kernelspec": {
   "display_name": "Python 3 (ipykernel)",
   "language": "python",
   "name": "python3"
  },
  "language_info": {
   "codemirror_mode": {
    "name": "ipython",
    "version": 3
   },
   "file_extension": ".py",
   "mimetype": "text/x-python",
   "name": "python",
   "nbconvert_exporter": "python",
   "pygments_lexer": "ipython3",
   "version": "3.10.9"
  }
 },
 "nbformat": 4,
 "nbformat_minor": 5
}
